{
 "cells": [
  {
   "cell_type": "markdown",
   "id": "58f5517b-319d-46e7-bbd1-6eec82df2155",
   "metadata": {},
   "source": [
    "# Descritor análise SP"
   ]
  },
  {
   "cell_type": "markdown",
   "id": "341a0731-a8be-4977-b6fc-874cd6f88716",
   "metadata": {},
   "source": [
    "### Importando Bibliotecas"
   ]
  },
  {
   "cell_type": "code",
   "execution_count": 4,
   "id": "62cf33fc",
   "metadata": {
    "tags": []
   },
   "outputs": [],
   "source": [
    "import sys\n",
    "import pandas as pd"
   ]
  },
  {
   "cell_type": "markdown",
   "id": "10b8d5e0-37ac-4280-a116-e4225a4c5530",
   "metadata": {},
   "source": [
    "### Para baixar o framework :"
   ]
  },
  {
   "cell_type": "code",
   "execution_count": null,
   "id": "08062db8-3978-4b6b-8cbf-30c052ae0482",
   "metadata": {},
   "outputs": [],
   "source": [
    "pip install descritor-analise-sp"
   ]
  },
  {
   "cell_type": "markdown",
   "id": "85a8ab86-8cf1-4924-9fac-a3b6f4a10f10",
   "metadata": {},
   "source": [
    "### Classe DescritorTabela\n",
    "\n",
    "#### Classe tem como objetivo filtrar e pesquisar dados de um determinado Dataframe."
   ]
  },
  {
   "cell_type": "code",
   "execution_count": 11,
   "id": "5dce09c2",
   "metadata": {},
   "outputs": [],
   "source": [
    "class DescritorTabela:\n",
    "    \"\"\"\n",
    "    Construtor\n",
    "    \"\"\"\n",
    "\n",
    "    def __init__(self, caminho_arq, sep='\\t'):\n",
    "        self.df = pd.read_csv(caminho_arq, sep=sep)\n",
    "        self.df.columns = ['Data', 'Temp_Media', 'Temp_Min', 'Temp_Max', 'Precipitacao', 'Final_de_semana',\n",
    "                           'Consumo_em_litros']\n",
    "        self.df[\"Data\"] = pd.to_datetime(self.df[\"Data\"])\n",
    "        self.df[[\"Temp_Media\", \"Temp_Min\", \"Temp_Max\", \"Precipitacao\", \"Consumo_em_litros\"]] = self.df[[\"Temp_Media\",\n",
    "                                                                                                        \"Temp_Min\",\n",
    "                                                                                                        \"Temp_Max\",\n",
    "                                                                                                        \"Precipitacao\",\n",
    "                                                                                                        \"Consumo_em_litros\"]].apply(pd.to_numeric)\n",
    "        self.data = self.df.Data\n",
    "        self.temp_max = self.df.Temp_Max\n",
    "        self.temp_min = self.df.Temp_Min\n",
    "        self.temp_media = self.df.Temp_Media\n",
    "        self.precipitacao = self.df.Precipitacao\n",
    "        self.consumo = self.df.Consumo_em_litros\n",
    "        self.min_int = -sys.maxsize - 1\n",
    "        self.max_int = sys.maxsize - 1\n",
    "\n",
    "    def pesquisar_por_data(self):\n",
    "        \"\"\"\n",
    "        Função pesquisa data específica que o usuário solicitar.\n",
    "        \"\"\"\n",
    "        col_data = self.df['Data']\n",
    "        data_especifica = input(\"Escreva a data:(Ano-Mês-Dia) \")\n",
    "        resultado = self.df.loc[col_data == data_especifica]\n",
    "        return resultado\n",
    "\n",
    "    def obter_data_temp_max(self):\n",
    "        \"\"\"\n",
    "        Função filtra dados da maior temperatura do ano e sua data.\n",
    "        \"\"\"\n",
    "        maior_temp = self.min_int\n",
    "        maior_data = None\n",
    "\n",
    "        for i in range(len(self.df)):\n",
    "            if maior_temp < self.df.iloc[i]['Temp_Max']:\n",
    "                maior_temp = self.df.iloc[i]['Temp_Max']\n",
    "                maior_data = self.df.iloc[i]['Data']\n",
    "\n",
    "        resposta = f\"O dia {maior_data} com maior temperatura teve um total de {maior_temp} ºC.\"\n",
    "        return resposta\n",
    "\n",
    "    def obter_data_temp_min(self):\n",
    "        \"\"\"\n",
    "        Função filtra dados de menor temperatura do ano e sua data.\n",
    "        \"\"\"\n",
    "        menor_temp = self.max_int\n",
    "        maior_data = None\n",
    "\n",
    "        for i in range(len(self.df)):\n",
    "            if menor_temp > self.df.iloc[i]['Temp_Min']:\n",
    "                menor_temp = self.df.iloc[i]['Temp_Min']\n",
    "                maior_data = self.df.iloc[i]['Data']\n",
    "\n",
    "        resposta = f\"O dia {maior_data} com menor temperatura teve um total de {menor_temp} ºC.\"\n",
    "        return resposta\n",
    "\n",
    "    def obter_data_maior_precipatacao(self):\n",
    "        \"\"\"\n",
    "        Função filtra dados de maior precipitação do ano e sua data.\n",
    "        \"\"\"\n",
    "        maior_preci = self.min_int\n",
    "        maior_data = None\n",
    "\n",
    "        for i in range(len(self.df)):\n",
    "            if maior_preci < self.df.iloc[i]['Precipitacao']:\n",
    "                maior_preci = self.df.iloc[i]['Precipitacao']\n",
    "                maior_data = self.df.iloc[i]['Data']\n",
    "\n",
    "        resposta = f\"O dia {maior_data} com mais chuvoso teve um total de {maior_preci} mm.\"\n",
    "        return resposta\n",
    "\n",
    "    def obter_data_maior_consumo(self):\n",
    "        \"\"\"\n",
    "        Função filtra dados de maior consumo do ano e sua data.\n",
    "        \"\"\"\n",
    "        maior_consumo = self.min_int\n",
    "        maior_data = None\n",
    "\n",
    "        for i in range(len(self.df)):\n",
    "            if maior_consumo < self.df.iloc[i]['Consumo_em_litros']:\n",
    "                maior_consumo = self.df.iloc[i]['Consumo_em_litros']\n",
    "                maior_data = self.df.iloc[i]['Data']\n",
    "\n",
    "        resposta = f\"O dia {maior_data} com mais consumo teve um total de {maior_consumo} litros.\"\n",
    "        return resposta\n",
    "\n",
    "    def obter_data_menor_consumo(self):\n",
    "        \"\"\"\n",
    "        Função filtra dados de menor consumo do ano e sua data.\n",
    "        \"\"\"\n",
    "        menor_consumo = self.max_int\n",
    "        maior_data = None\n",
    "\n",
    "        for i in range(len(self.df)):\n",
    "            if menor_consumo > self.df.iloc[i]['Consumo_em_litros']:\n",
    "                menor_consumo = self.df.iloc[i]['Consumo_em_litros']\n",
    "                maior_data = self.df.iloc[i]['Data']\n",
    "\n",
    "        resposta = f\"O dia {maior_data} com menor consumo teve um total de {menor_consumo} litros.\"\n",
    "        return resposta\n",
    "\n",
    "    def obter_media_consumo(self):\n",
    "        \"\"\"\n",
    "        Função filtra media de consumo do ano.\n",
    "        \"\"\"\n",
    "        coluna_media_consumo = self.df.Consumo_em_litros\n",
    "        self.consumo = coluna_media_consumo.mean()\n",
    "        resposta = f\"Média de consumo por dia foi de {self.consumo} litros consumidos.\"\n",
    "        return resposta\n",
    "\n",
    "    def obter_soma_consumo(self):\n",
    "        \"\"\"\n",
    "        Função filtra soma de consumo do ano.\n",
    "        \"\"\"\n",
    "        coluna_soma_consumo = self.df.Consumo_em_litros\n",
    "        self.consumo = coluna_soma_consumo.sum()\n",
    "        resposta = f\"A soma de consumo do ano foi de {self.consumo} litros consumidos.\"\n",
    "        return resposta"
   ]
  },
  {
   "cell_type": "code",
   "execution_count": 12,
   "id": "c74be67a",
   "metadata": {},
   "outputs": [
    {
     "name": "stdin",
     "output_type": "stream",
     "text": [
      "Escreva a data:(Ano-Mês-Dia)  2015-11-11\n"
     ]
    },
    {
     "name": "stdout",
     "output_type": "stream",
     "text": [
      "          Data  Temp_Media  Temp_Min  Temp_Max  Precipitacao  Final_de_semana  \\\n",
      "314 2015-11-11        26.2      19.8      32.7           0.0              0.0   \n",
      "\n",
      "     Consumo_em_litros  \n",
      "314             29.569  \n"
     ]
    }
   ],
   "source": [
    "# Seleciona o caminho do Dataset desejado.\n",
    "dt = DescritorTabela(\"C:\\FrameworkTalitha\\Consumo_cerveja2.tsv\")\n",
    "# Utiliza a Função desejada.\n",
    "print(dt.pesquisar_por_data())"
   ]
  }
 ],
 "metadata": {
  "kernelspec": {
   "display_name": "Python 3",
   "language": "python",
   "name": "python3"
  },
  "language_info": {
   "codemirror_mode": {
    "name": "ipython",
    "version": 3
   },
   "file_extension": ".py",
   "mimetype": "text/x-python",
   "name": "python",
   "nbconvert_exporter": "python",
   "pygments_lexer": "ipython3",
   "version": "3.8.8"
  }
 },
 "nbformat": 4,
 "nbformat_minor": 5
}
